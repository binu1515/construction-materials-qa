{
  "nbformat": 4,
  "nbformat_minor": 0,
  "metadata": {
    "colab": {
      "provenance": []
    },
    "kernelspec": {
      "name": "python3",
      "display_name": "Python 3"
    },
    "language_info": {
      "name": "python"
    }
  },
  "cells": [
    {
      "cell_type": "code",
      "execution_count": null,
      "metadata": {
        "id": "g1k78cosCjgG"
      },
      "outputs": [],
      "source": [
        "# Make sure to mount Google Drive first\n",
        "\n",
        "import os\n",
        "from google.colab import drive\n",
        "import yaml\n",
        "import shutil\n",
        "from ultralytics import YOLO"
      ]
    },
    {
      "cell_type": "code",
      "source": [
        "# Mount Google Drive\n",
        "drive.mount('/content/drive')"
      ],
      "metadata": {
        "id": "LU1jio28DVOS"
      },
      "execution_count": null,
      "outputs": []
    },
    {
      "cell_type": "code",
      "source": [
        "\n",
        "# Set paths\n",
        "DATASET_PATH = '/content/dataset'  # Local path for dataset\n",
        "DRIVE_DATASET_PATH = '/content/drive/MyDrive/path/to/your/dataset'  # Update this path\n",
        "RESULTS_PATH = '/content/drive/MyDrive/yolo_results'  # Where to save results\n"
      ],
      "metadata": {
        "id": "hRzMECtDDY_B"
      },
      "execution_count": null,
      "outputs": []
    },
    {
      "cell_type": "code",
      "source": [
        "# Create necessary directories\n",
        "#os.makedirs(DATASET_PATH, exist_ok=True)\n",
        "#os.makedirs(RESULTS_PATH, exist_ok=True)"
      ],
      "metadata": {
        "id": "C_Dm-OIRDch_"
      },
      "execution_count": null,
      "outputs": []
    },
    {
      "cell_type": "code",
      "source": [
        "# Copy dataset from Drive to local Colab storage for faster access\n",
        "#!cp -r $DRIVE_DATASET_PATH/* $DATASET_PATH/"
      ],
      "metadata": {
        "id": "rY8xuFUoDgL8"
      },
      "execution_count": null,
      "outputs": []
    },
    {
      "cell_type": "code",
      "source": [
        "# Read and modify data.yaml\n",
        "with open(f'{DATASET_PATH}/data.yaml', 'r') as file:\n",
        "    data = yaml.safe_load(file)"
      ],
      "metadata": {
        "id": "_KM8zR6SDk0c"
      },
      "execution_count": null,
      "outputs": []
    },
    {
      "cell_type": "code",
      "source": [
        "# Update paths in data.yaml to match Colab structure\n",
        "data['train'] = f'{DATASET_PATH}/train/images'\n",
        "data['val'] = f'{DATASET_PATH}/valid/images'\n",
        "data['test'] = f'{DATASET_PATH}/test/images'"
      ],
      "metadata": {
        "id": "AIBt-BwmDptw"
      },
      "execution_count": null,
      "outputs": []
    },
    {
      "cell_type": "code",
      "source": [
        "# Save modified data.yaml\n",
        "with open(f'{DATASET_PATH}/data.yaml', 'w') as file:\n",
        "    yaml.dump(data, file)"
      ],
      "metadata": {
        "id": "krnRiIJDDtev"
      },
      "execution_count": null,
      "outputs": []
    },
    {
      "cell_type": "code",
      "source": [
        "# Print dataset information\n",
        "print(\"Dataset Information:\")\n",
        "print(f\"Number of classes: {len(data['names'])}\")\n",
        "print(\"Classes:\", data['names'])\n",
        "print(\"Paths:\")\n",
        "print(f\"Train: {data['train']}\")\n",
        "print(f\"Validation: {data['val']}\")\n",
        "print(f\"Test: {data['test']}\")"
      ],
      "metadata": {
        "id": "LAPepA8BDyOw"
      },
      "execution_count": null,
      "outputs": []
    },
    {
      "cell_type": "code",
      "source": [],
      "metadata": {
        "id": "b-5VR0-OD6iX"
      },
      "execution_count": null,
      "outputs": []
    },
    {
      "cell_type": "code",
      "source": [
        "# Training configuration\n",
        "config = {\n",
        "    'model_size': 'x',  # n, s, m, l, x (smaller to larger)\n",
        "    'epochs': 100,\n",
        "    'batch_size': 16,\n",
        "    'imgsz': 640,\n",
        "    'patience': 20,\n",
        "    'device': 0  # Use GPU\n",
        "}"
      ],
      "metadata": {
        "id": "t0XdKxxmD2Xw"
      },
      "execution_count": null,
      "outputs": []
    },
    {
      "cell_type": "code",
      "source": [
        "\n",
        "# Initialize and train model\n",
        "model = YOLO(f\"yolov8{config['model_size']}.pt\")  # Load pretrained model"
      ],
      "metadata": {
        "id": "IJnZbHFWD7iB"
      },
      "execution_count": null,
      "outputs": []
    },
    {
      "cell_type": "code",
      "source": [
        "# Train the model\n",
        "results = model.train(\n",
        "    data=f'{DATASET_PATH}/data.yaml',\n",
        "    epochs=config['epochs'],\n",
        "    batch=config['batch_size'],\n",
        "    imgsz=config['imgsz'],\n",
        "    patience=config['patience'],\n",
        "    device=config['device'],\n",
        "    project=RESULTS_PATH,\n",
        "    name='yolov8_custom_model',\n",
        "    pretrained=True,\n",
        "    optimizer='Adam',  # Using Adam optimizer\n",
        "    lr0=0.001,  # Initial learning rate\n",
        "    lrf=0.01,   # Final learning rate fraction\n",
        "    momentum=0.937,\n",
        "    weight_decay=0.0005,\n",
        "    warmup_epochs=3.0,\n",
        "    warmup_momentum=0.8,\n",
        "    warmup_bias_lr=0.1,\n",
        "    box=7.5,    # Box loss gain\n",
        "    cls=0.5,    # Classification loss gain\n",
        "    hsv_h=0.015,  # HSV augmentation\n",
        "    hsv_s=0.7,\n",
        "    hsv_v=0.4,\n",
        "    degrees=0.0,  # Rotation augmentation\n",
        "    translate=0.1,\n",
        "    scale=0.5,\n",
        "    shear=0.0,\n",
        "    perspective=0.0,\n",
        "    flipud=0.0,\n",
        "    fliplr=0.5,\n",
        "    mosaic=1.0,  # Mosaic augmentation\n",
        "    mixup=0.0,   # Mixup augmentation\n",
        "    copy_paste=0.0,\n",
        "    save_period=10  # Save checkpoint every 10 epochs\n",
        ")"
      ],
      "metadata": {
        "id": "YLXaMZgZEAiO"
      },
      "execution_count": null,
      "outputs": []
    },
    {
      "cell_type": "code",
      "source": [
        "# Validate the model\n",
        "results = model.val()"
      ],
      "metadata": {
        "id": "d4R-cTaoEEm5"
      },
      "execution_count": null,
      "outputs": []
    },
    {
      "cell_type": "code",
      "source": [
        "# Run inference on test set\n",
        "results = model.predict(source=data['test'], save=True, conf=0.25)"
      ],
      "metadata": {
        "id": "vg2VoFw6EI84"
      },
      "execution_count": null,
      "outputs": []
    },
    {
      "cell_type": "code",
      "source": [
        "# Save the final model in PT format\n",
        "final_model_path = os.path.join(RESULTS_PATH, 'yolov8_custom_model', 'weights', 'best.pt')\n",
        "backup_model_path = os.path.join(RESULTS_PATH, 'yolov8_custom_model', 'weights', 'last.pt')"
      ],
      "metadata": {
        "id": "GdSxbbUUF2k4"
      },
      "execution_count": null,
      "outputs": []
    }
  ]
}